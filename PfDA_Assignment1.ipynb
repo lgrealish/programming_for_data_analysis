{
 "cells": [
  {
   "cell_type": "markdown",
   "metadata": {},
   "source": [
    "# PfDA Assignment"
   ]
  },
  {
   "cell_type": "code",
   "execution_count": 13,
   "metadata": {},
   "outputs": [],
   "source": [
    "# Import modules necessary for this task\n",
    "import pandas as pd\n",
    "import numpy as np"
   ]
  },
  {
   "cell_type": "code",
   "execution_count": 12,
   "metadata": {},
   "outputs": [],
   "source": [
    "# Read in the existing dataset from the online source.\n",
    "\n",
    "url = 'https://raw.githubusercontent.com/datasciencedojo/datasets/master/titanic.csv'\n",
    "\n",
    "df = pd.read_csv(url)"
   ]
  },
  {
   "cell_type": "code",
   "execution_count": null,
   "metadata": {},
   "outputs": [],
   "source": [
    "print(df.info())"
   ]
  },
  {
   "cell_type": "code",
   "execution_count": null,
   "metadata": {},
   "outputs": [],
   "source": [
    "print(df.head)"
   ]
  },
  {
   "cell_type": "code",
   "execution_count": 22,
   "metadata": {},
   "outputs": [
    {
     "name": "stdout",
     "output_type": "stream",
     "text": [
      "      Sex  Age  Class Survived Port of Embarkation\n",
      "0    Male   62  First      Yes          Queenstown\n",
      "1  Female   95  Third      Yes         Southampton\n",
      "2    Male   51  Third      Yes          Queenstown\n",
      "3    Male   95  First       No           Cherbourg\n",
      "4    Male    3  First       No          Queenstown\n"
     ]
    }
   ],
   "source": [
    "# Set random seed for reproducibility\n",
    "np.random.seed(42)\n",
    "\n",
    "# Number of samples in the dataset\n",
    "num_samples = 100\n",
    "\n",
    "\n",
    "\n",
    "# Generate synthetic features\n",
    "sex = np.random.choice(['Male', 'Female'], size=200)\n",
    "age = np.random.randint(low=0, high=100, size=200)\n",
    "passenger_class = np.random.choice(['First', 'Second', 'Third'], size=200)\n",
    "survived = np.random.choice(['Yes', 'No'], size=200)\n",
    "port = np.random.choice(['Queenstown', 'Southampton', 'Cherbourg'], size=200)\n",
    "\n",
    "# Generate synthetic target variable (response)\n",
    "# Assuming a linear relationship with noise\n",
    "#target = 2 * sex + 0.5 * age + np.random.normal(loc=0, scale=0.5, size=100)\n",
    "\n",
    "# Create a DataFrame to store the synthetic dataset\n",
    "synthetic_data = pd.DataFrame({\n",
    "    'Sex': sex,\n",
    "    'Age': age,\n",
    "    'Class': passenger_class,\n",
    "    'Survived': survived,\n",
    "    'Port of Embarkation' : port})\n",
    "\n",
    "# Display the first few rows of the synthetic dataset\n",
    "print(synthetic_data.head())\n",
    "\n",
    "# Save the synthetic dataset to a CSV file\n",
    "synthetic_data.to_csv('synthetic_dataset.csv', index=False)\n"
   ]
  },
  {
   "cell_type": "code",
   "execution_count": 23,
   "metadata": {},
   "outputs": [
    {
     "name": "stdout",
     "output_type": "stream",
     "text": [
      "<class 'pandas.core.frame.DataFrame'>\n",
      "RangeIndex: 200 entries, 0 to 199\n",
      "Data columns (total 5 columns):\n",
      " #   Column               Non-Null Count  Dtype \n",
      "---  ------               --------------  ----- \n",
      " 0   Sex                  200 non-null    object\n",
      " 1   Age                  200 non-null    int32 \n",
      " 2   Class                200 non-null    object\n",
      " 3   Survived             200 non-null    object\n",
      " 4   Port of Embarkation  200 non-null    object\n",
      "dtypes: int32(1), object(4)\n",
      "memory usage: 7.2+ KB\n",
      "None\n"
     ]
    }
   ],
   "source": [
    "print(synthetic_data.info())"
   ]
  }
 ],
 "metadata": {
  "kernelspec": {
   "display_name": "base",
   "language": "python",
   "name": "python3"
  },
  "language_info": {
   "codemirror_mode": {
    "name": "ipython",
    "version": 3
   },
   "file_extension": ".py",
   "mimetype": "text/x-python",
   "name": "python",
   "nbconvert_exporter": "python",
   "pygments_lexer": "ipython3",
   "version": "3.11.4"
  }
 },
 "nbformat": 4,
 "nbformat_minor": 2
}
